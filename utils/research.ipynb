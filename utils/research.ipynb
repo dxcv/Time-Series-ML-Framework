{
 "cells": [
  {
   "cell_type": "code",
   "execution_count": 40,
   "metadata": {},
   "outputs": [],
   "source": [
    "import matplotlib\n",
    "%matplotlib inline\n",
    "import matplotlib.pyplot as plt"
   ]
  },
  {
   "cell_type": "code",
   "execution_count": 41,
   "metadata": {},
   "outputs": [],
   "source": [
    "import os\n",
    "import pandas as pd\n",
    "import numpy as np"
   ]
  },
  {
   "cell_type": "code",
   "execution_count": 42,
   "metadata": {},
   "outputs": [],
   "source": [
    "RESULT_FOLDER = \"../results\""
   ]
  },
  {
   "cell_type": "code",
   "execution_count": 43,
   "metadata": {},
   "outputs": [],
   "source": [
    "result_folder_lst = os.listdir(RESULT_FOLDER)"
   ]
  },
  {
   "cell_type": "code",
   "execution_count": 44,
   "metadata": {},
   "outputs": [],
   "source": [
    "result_folder_lst.remove(\".gitignore\")\n",
    "result_folder_lst.remove(\"pics\")"
   ]
  },
  {
   "cell_type": "code",
   "execution_count": 45,
   "metadata": {},
   "outputs": [],
   "source": [
    "df_lst = [pd.read_csv(os.path.join(RESULT_FOLDER, name, \"results.csv\"), index_col=0) for name in result_folder_lst]"
   ]
  },
  {
   "cell_type": "code",
   "execution_count": 46,
   "metadata": {},
   "outputs": [],
   "source": [
    "from sklearn.metrics import explained_variance_score, mean_absolute_error, mean_squared_error, mean_squared_log_error, median_absolute_error, r2_score"
   ]
  },
  {
   "cell_type": "code",
   "execution_count": 47,
   "metadata": {},
   "outputs": [],
   "source": [
    "# 计算每个模型：平均拟合指标，画每日拟合图\n",
    "def calc_mean_measure(df, metric_obj):\n",
    "    tdf = df.groupby(\"date\").mean()\n",
    "    try:\n",
    "        return metric_obj(tdf[\"y_test\"], tdf[\"y_predict\"])\n",
    "    except:\n",
    "        return np.nan"
   ]
  },
  {
   "cell_type": "code",
   "execution_count": 48,
   "metadata": {},
   "outputs": [
    {
     "name": "stderr",
     "output_type": "stream",
     "text": [
      "C:\\Users\\hoore\\Miniconda3\\envs\\work\\lib\\site-packages\\numpy\\core\\_methods.py:36: RuntimeWarning: invalid value encountered in reduce\n",
      "  return umr_sum(a, axis, dtype, out, keepdims, initial)\n",
      "C:\\Users\\hoore\\Miniconda3\\envs\\work\\lib\\site-packages\\numpy\\core\\_methods.py:36: RuntimeWarning: invalid value encountered in reduce\n",
      "  return umr_sum(a, axis, dtype, out, keepdims, initial)\n",
      "C:\\Users\\hoore\\Miniconda3\\envs\\work\\lib\\site-packages\\numpy\\core\\_methods.py:36: RuntimeWarning: invalid value encountered in reduce\n",
      "  return umr_sum(a, axis, dtype, out, keepdims, initial)\n"
     ]
    },
    {
     "data": {
      "text/plain": [
       "[('100', nan),\n",
       " ('12', nan),\n",
       " ('2', 0.9821789911468934),\n",
       " ('15', 0.9821710555775529),\n",
       " ('103', 0.9819749127763923),\n",
       " ('25', nan),\n",
       " ('27', nan),\n",
       " ('29', nan),\n",
       " ('3', 0.9822393674701966),\n",
       " ('31', nan),\n",
       " ('37', 0.982028662113291),\n",
       " ('24', 0.9819164341956165),\n",
       " ('21', 0.981656367189786),\n",
       " ('108', 0.9816496307845006),\n",
       " ('41', 0.9816267940351537),\n",
       " ('105', 0.9815977381298774),\n",
       " ('107', 0.9815591876053984),\n",
       " ('18', 0.9814662190861494),\n",
       " ('39', 0.9814370143552956),\n",
       " ('17', 0.9813961186443723)]"
      ]
     },
     "execution_count": 48,
     "metadata": {},
     "output_type": "execute_result"
    }
   ],
   "source": [
    "score_lst = [(ch, calc_mean_measure(df_lst[idx], r2_score)) for idx, ch in enumerate(result_folder_lst)]\n",
    "score_lst.sort(key=lambda x: x[1], reverse=True)\n",
    "score_lst[:20]"
   ]
  },
  {
   "cell_type": "code",
   "execution_count": 49,
   "metadata": {},
   "outputs": [
    {
     "name": "stderr",
     "output_type": "stream",
     "text": [
      "C:\\Users\\hoore\\Miniconda3\\envs\\work\\lib\\site-packages\\numpy\\core\\_methods.py:36: RuntimeWarning: invalid value encountered in reduce\n",
      "  return umr_sum(a, axis, dtype, out, keepdims, initial)\n",
      "C:\\Users\\hoore\\Miniconda3\\envs\\work\\lib\\site-packages\\numpy\\core\\_methods.py:36: RuntimeWarning: invalid value encountered in reduce\n",
      "  return umr_sum(a, axis, dtype, out, keepdims, initial)\n",
      "C:\\Users\\hoore\\Miniconda3\\envs\\work\\lib\\site-packages\\numpy\\core\\_methods.py:36: RuntimeWarning: invalid value encountered in reduce\n",
      "  return umr_sum(a, axis, dtype, out, keepdims, initial)\n"
     ]
    },
    {
     "data": {
      "text/plain": [
       "[('100', nan),\n",
       " ('12', nan),\n",
       " ('2', 0.9821812501474347),\n",
       " ('15', 0.9821730550891816),\n",
       " ('103', 0.981977006148312),\n",
       " ('25', nan),\n",
       " ('27', nan),\n",
       " ('29', nan),\n",
       " ('3', 0.9822433923257068),\n",
       " ('31', nan),\n",
       " ('37', 0.9820291206966207),\n",
       " ('24', 0.9819239630998178),\n",
       " ('21', 0.9816563811805427),\n",
       " ('108', 0.9816498366555242),\n",
       " ('41', 0.9816336722356415),\n",
       " ('105', 0.9816073585811204),\n",
       " ('107', 0.9815661409377998),\n",
       " ('18', 0.9814749055531335),\n",
       " ('39', 0.9814448743714154),\n",
       " ('17', 0.9814050714883366)]"
      ]
     },
     "execution_count": 49,
     "metadata": {},
     "output_type": "execute_result"
    }
   ],
   "source": [
    "score_lst = [(ch, calc_mean_measure(df_lst[idx], explained_variance_score)) for idx, ch in enumerate(result_folder_lst)]\n",
    "score_lst.sort(key=lambda x: x[1], reverse=True)\n",
    "score_lst[:20]"
   ]
  },
  {
   "cell_type": "code",
   "execution_count": 50,
   "metadata": {},
   "outputs": [],
   "source": [
    "# looks like the best is AdaBosotRegressor"
   ]
  },
  {
   "cell_type": "code",
   "execution_count": 51,
   "metadata": {},
   "outputs": [],
   "source": [
    "best_df = pd.read_csv(os.path.join(RESULT_FOLDER, \"2\", \"results.csv\"))"
   ]
  },
  {
   "cell_type": "code",
   "execution_count": 52,
   "metadata": {},
   "outputs": [],
   "source": [
    "tdf = best_df.groupby(\"date\").mean()"
   ]
  },
  {
   "cell_type": "code",
   "execution_count": 56,
   "metadata": {},
   "outputs": [],
   "source": [
    "tdf.to_excel(\"observe.xlsx\")"
   ]
  },
  {
   "cell_type": "code",
   "execution_count": 55,
   "metadata": {},
   "outputs": [
    {
     "data": {
      "text/plain": [
       "<matplotlib.axes._subplots.AxesSubplot at 0x2501d4bbe10>"
      ]
     },
     "execution_count": 55,
     "metadata": {},
     "output_type": "execute_result"
    },
    {
     "data": {
      "image/png": "[encoded data removed]",
      "text/plain": [
       "<Figure size 432x288 with 1 Axes>"
      ]
     },
     "metadata": {},
     "output_type": "display_data"
    }
   ],
   "source": [
    "tdf.loc[:, [\"y_test\", \"y_predict\"]].plot()"
   ]
  },
  {
   "cell_type": "code",
   "execution_count": 57,
   "metadata": {},
   "outputs": [],
   "source": [
    "# why this looks so good, are we peeking into the future?"
   ]
  },
  {
   "cell_type": "code",
   "execution_count": 62,
   "metadata": {},
   "outputs": [],
   "source": [
    "total_df = pd.read_excel(\"../raw_df_observe.xlsx\", index_col=0)"
   ]
  },
  {
   "cell_type": "code",
   "execution_count": 64,
   "metadata": {},
   "outputs": [
    {
     "data": {
      "text/plain": [
       "False"
      ]
     },
     "execution_count": 64,
     "metadata": {},
     "output_type": "execute_result"
    }
   ],
   "source": [
    "(total_df[\"y\"] == total_df[\"Yield-lag-1\"]).all()"
   ]
  }
 ],
 "metadata": {
  "kernelspec": {
   "display_name": "Python 3",
   "language": "python",
   "name": "python3"
  },
  "language_info": {
   "codemirror_mode": {
    "name": "ipython",
    "version": 3
   },
   "file_extension": ".py",
   "mimetype": "text/x-python",
   "name": "python",
   "nbconvert_exporter": "python",
   "pygments_lexer": "ipython3",
   "version": "3.6.8"
  }
 },
 "nbformat": 4,
 "nbformat_minor": 2
}
